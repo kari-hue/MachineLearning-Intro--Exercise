{
 "cells": [
  {
   "cell_type": "markdown",
   "id": "4eea0845",
   "metadata": {
    "papermill": {
     "duration": 0.024414,
     "end_time": "2021-12-28T02:24:07.863336",
     "exception": false,
     "start_time": "2021-12-28T02:24:07.838922",
     "status": "completed"
    },
    "tags": []
   },
   "source": [
    "**This notebook is an exercise in the [Introduction to Machine Learning](https://www.kaggle.com/learn/intro-to-machine-learning) course.  You can reference the tutorial at [this link](https://www.kaggle.com/dansbecker/your-first-machine-learning-model).**\n",
    "\n",
    "---\n"
   ]
  },
  {
   "cell_type": "markdown",
   "id": "f8a8273b",
   "metadata": {
    "papermill": {
     "duration": 0.022159,
     "end_time": "2021-12-28T02:24:07.908024",
     "exception": false,
     "start_time": "2021-12-28T02:24:07.885865",
     "status": "completed"
    },
    "tags": []
   },
   "source": [
    "## Recap\n",
    "So far, you have loaded your data and reviewed it with the following code. Run this cell to set up your coding environment where the previous step left off."
   ]
  },
  {
   "cell_type": "code",
   "execution_count": 1,
   "id": "7c06d90f",
   "metadata": {
    "execution": {
     "iopub.execute_input": "2021-12-28T02:24:07.966801Z",
     "iopub.status.busy": "2021-12-28T02:24:07.965866Z",
     "iopub.status.idle": "2021-12-28T02:24:09.254945Z",
     "shell.execute_reply": "2021-12-28T02:24:09.255913Z",
     "shell.execute_reply.started": "2021-12-28T01:55:14.494490Z"
    },
    "papermill": {
     "duration": 1.325781,
     "end_time": "2021-12-28T02:24:09.256222",
     "exception": false,
     "start_time": "2021-12-28T02:24:07.930441",
     "status": "completed"
    },
    "tags": []
   },
   "outputs": [
    {
     "name": "stdout",
     "output_type": "stream",
     "text": [
      "Setup Complete\n"
     ]
    }
   ],
   "source": [
    "# Code you have previously used to load data\n",
    "import pandas as pd\n",
    "\n",
    "# Path of the file to read\n",
    "iowa_file_path = '../input/home-data-for-ml-course/train.csv'\n",
    "\n",
    "home_data = pd.read_csv(iowa_file_path)\n",
    "\n",
    "# Set up code checking\n",
    "from learntools.core import binder\n",
    "binder.bind(globals())\n",
    "from learntools.machine_learning.ex3 import *\n",
    "\n",
    "print(\"Setup Complete\")"
   ]
  },
  {
   "cell_type": "markdown",
   "id": "7a6e5211",
   "metadata": {
    "papermill": {
     "duration": 0.022897,
     "end_time": "2021-12-28T02:24:09.302513",
     "exception": false,
     "start_time": "2021-12-28T02:24:09.279616",
     "status": "completed"
    },
    "tags": []
   },
   "source": [
    "# Exercises\n",
    "\n",
    "## Step 1: Specify Prediction Target\n",
    "Select the target variable, which corresponds to the sales price. Save this to a new variable called `y`. You'll need to print a list of the columns to find the name of the column you need.\n"
   ]
  },
  {
   "cell_type": "code",
   "execution_count": 2,
   "id": "ec30ee98",
   "metadata": {
    "execution": {
     "iopub.execute_input": "2021-12-28T02:24:09.354191Z",
     "iopub.status.busy": "2021-12-28T02:24:09.353531Z",
     "iopub.status.idle": "2021-12-28T02:24:09.360974Z",
     "shell.execute_reply": "2021-12-28T02:24:09.361578Z",
     "shell.execute_reply.started": "2021-12-28T01:55:24.867313Z"
    },
    "papermill": {
     "duration": 0.035365,
     "end_time": "2021-12-28T02:24:09.361745",
     "exception": false,
     "start_time": "2021-12-28T02:24:09.326380",
     "status": "completed"
    },
    "tags": []
   },
   "outputs": [
    {
     "data": {
      "text/plain": [
       "Index(['Id', 'MSSubClass', 'MSZoning', 'LotFrontage', 'LotArea', 'Street',\n",
       "       'Alley', 'LotShape', 'LandContour', 'Utilities', 'LotConfig',\n",
       "       'LandSlope', 'Neighborhood', 'Condition1', 'Condition2', 'BldgType',\n",
       "       'HouseStyle', 'OverallQual', 'OverallCond', 'YearBuilt', 'YearRemodAdd',\n",
       "       'RoofStyle', 'RoofMatl', 'Exterior1st', 'Exterior2nd', 'MasVnrType',\n",
       "       'MasVnrArea', 'ExterQual', 'ExterCond', 'Foundation', 'BsmtQual',\n",
       "       'BsmtCond', 'BsmtExposure', 'BsmtFinType1', 'BsmtFinSF1',\n",
       "       'BsmtFinType2', 'BsmtFinSF2', 'BsmtUnfSF', 'TotalBsmtSF', 'Heating',\n",
       "       'HeatingQC', 'CentralAir', 'Electrical', '1stFlrSF', '2ndFlrSF',\n",
       "       'LowQualFinSF', 'GrLivArea', 'BsmtFullBath', 'BsmtHalfBath', 'FullBath',\n",
       "       'HalfBath', 'BedroomAbvGr', 'KitchenAbvGr', 'KitchenQual',\n",
       "       'TotRmsAbvGrd', 'Functional', 'Fireplaces', 'FireplaceQu', 'GarageType',\n",
       "       'GarageYrBlt', 'GarageFinish', 'GarageCars', 'GarageArea', 'GarageQual',\n",
       "       'GarageCond', 'PavedDrive', 'WoodDeckSF', 'OpenPorchSF',\n",
       "       'EnclosedPorch', '3SsnPorch', 'ScreenPorch', 'PoolArea', 'PoolQC',\n",
       "       'Fence', 'MiscFeature', 'MiscVal', 'MoSold', 'YrSold', 'SaleType',\n",
       "       'SaleCondition', 'SalePrice'],\n",
       "      dtype='object')"
      ]
     },
     "execution_count": 2,
     "metadata": {},
     "output_type": "execute_result"
    }
   ],
   "source": [
    "# Printing the name of the columns\n",
    "home_data.columns"
   ]
  },
  {
   "cell_type": "code",
   "execution_count": 3,
   "id": "1eb40b03",
   "metadata": {
    "execution": {
     "iopub.execute_input": "2021-12-28T02:24:09.411235Z",
     "iopub.status.busy": "2021-12-28T02:24:09.410636Z",
     "iopub.status.idle": "2021-12-28T02:24:09.415288Z",
     "shell.execute_reply": "2021-12-28T02:24:09.415898Z",
     "shell.execute_reply.started": "2021-12-28T01:56:27.024603Z"
    },
    "papermill": {
     "duration": 0.031179,
     "end_time": "2021-12-28T02:24:09.416060",
     "exception": false,
     "start_time": "2021-12-28T02:24:09.384881",
     "status": "completed"
    },
    "tags": []
   },
   "outputs": [
    {
     "data": {
      "text/plain": [
       "81"
      ]
     },
     "execution_count": 3,
     "metadata": {},
     "output_type": "execute_result"
    }
   ],
   "source": [
    "len(home_data.columns)"
   ]
  },
  {
   "cell_type": "markdown",
   "id": "9e03c418",
   "metadata": {
    "papermill": {
     "duration": 0.023588,
     "end_time": "2021-12-28T02:24:09.463537",
     "exception": false,
     "start_time": "2021-12-28T02:24:09.439949",
     "status": "completed"
    },
    "tags": []
   },
   "source": [
    "We have altogether 81 column and we are interested to predict the SalePrice so it will be our y variabel."
   ]
  },
  {
   "cell_type": "code",
   "execution_count": 4,
   "id": "95d58567",
   "metadata": {
    "execution": {
     "iopub.execute_input": "2021-12-28T02:24:09.514109Z",
     "iopub.status.busy": "2021-12-28T02:24:09.513495Z",
     "iopub.status.idle": "2021-12-28T02:24:09.526116Z",
     "shell.execute_reply": "2021-12-28T02:24:09.526648Z",
     "shell.execute_reply.started": "2021-12-28T01:57:49.740490Z"
    },
    "papermill": {
     "duration": 0.039626,
     "end_time": "2021-12-28T02:24:09.526835",
     "exception": false,
     "start_time": "2021-12-28T02:24:09.487209",
     "status": "completed"
    },
    "tags": []
   },
   "outputs": [
    {
     "data": {
      "application/javascript": [
       "parent.postMessage({\"jupyterEvent\": \"custom.exercise_interaction\", \"data\": {\"outcomeType\": 1, \"valueTowardsCompletion\": 0.25, \"interactionType\": 1, \"questionType\": 2, \"questionId\": \"1_SetTarget\", \"learnToolsVersion\": \"0.3.4\", \"failureMessage\": \"\", \"exceptionClass\": \"\", \"trace\": \"\"}}, \"*\")"
      ],
      "text/plain": [
       "<IPython.core.display.Javascript object>"
      ]
     },
     "metadata": {},
     "output_type": "display_data"
    },
    {
     "data": {
      "text/markdown": [
       "<span style=\"color:#33cc33\">Correct</span>"
      ],
      "text/plain": [
       "Correct"
      ]
     },
     "metadata": {},
     "output_type": "display_data"
    }
   ],
   "source": [
    "y = home_data['SalePrice']\n",
    "\n",
    "# Check your answer\n",
    "step_1.check()"
   ]
  },
  {
   "cell_type": "code",
   "execution_count": 5,
   "id": "153772c1",
   "metadata": {
    "execution": {
     "iopub.execute_input": "2021-12-28T02:24:09.580503Z",
     "iopub.status.busy": "2021-12-28T02:24:09.579837Z",
     "iopub.status.idle": "2021-12-28T02:24:09.585358Z",
     "shell.execute_reply": "2021-12-28T02:24:09.586042Z",
     "shell.execute_reply.started": "2021-12-28T01:58:16.655418Z"
    },
    "papermill": {
     "duration": 0.03401,
     "end_time": "2021-12-28T02:24:09.586212",
     "exception": false,
     "start_time": "2021-12-28T02:24:09.552202",
     "status": "completed"
    },
    "tags": []
   },
   "outputs": [
    {
     "name": "stdout",
     "output_type": "stream",
     "text": [
      "0    208500\n",
      "1    181500\n",
      "2    223500\n",
      "3    140000\n",
      "4    250000\n",
      "Name: SalePrice, dtype: int64\n"
     ]
    }
   ],
   "source": [
    "# Printing the value of y\n",
    "\n",
    "print(y.head())"
   ]
  },
  {
   "cell_type": "code",
   "execution_count": 6,
   "id": "6e9dcd14",
   "metadata": {
    "execution": {
     "iopub.execute_input": "2021-12-28T02:24:09.639370Z",
     "iopub.status.busy": "2021-12-28T02:24:09.638766Z",
     "iopub.status.idle": "2021-12-28T02:24:09.783347Z",
     "shell.execute_reply": "2021-12-28T02:24:09.782791Z",
     "shell.execute_reply.started": "2021-12-28T01:59:59.887306Z"
    },
    "papermill": {
     "duration": 0.172329,
     "end_time": "2021-12-28T02:24:09.783521",
     "exception": false,
     "start_time": "2021-12-28T02:24:09.611192",
     "status": "completed"
    },
    "tags": []
   },
   "outputs": [],
   "source": [
    "import matplotlib.pyplot as plt\n",
    "import seaborn as sns"
   ]
  },
  {
   "cell_type": "code",
   "execution_count": 7,
   "id": "c323bea8",
   "metadata": {
    "execution": {
     "iopub.execute_input": "2021-12-28T02:24:09.844404Z",
     "iopub.status.busy": "2021-12-28T02:24:09.841878Z",
     "iopub.status.idle": "2021-12-28T02:24:10.188568Z",
     "shell.execute_reply": "2021-12-28T02:24:10.189023Z",
     "shell.execute_reply.started": "2021-12-28T02:02:31.790443Z"
    },
    "papermill": {
     "duration": 0.379205,
     "end_time": "2021-12-28T02:24:10.189190",
     "exception": false,
     "start_time": "2021-12-28T02:24:09.809985",
     "status": "completed"
    },
    "tags": []
   },
   "outputs": [
    {
     "name": "stderr",
     "output_type": "stream",
     "text": [
      "/opt/conda/lib/python3.7/site-packages/seaborn/distributions.py:2619: FutureWarning: `distplot` is a deprecated function and will be removed in a future version. Please adapt your code to use either `displot` (a figure-level function with similar flexibility) or `histplot` (an axes-level function for histograms).\n",
      "  warnings.warn(msg, FutureWarning)\n"
     ]
    },
    {
     "data": {
      "image/png": "[encoded data removed]",
      "text/plain": [
       "<Figure size 432x288 with 1 Axes>"
      ]
     },
     "metadata": {
      "needs_background": "light"
     },
     "output_type": "display_data"
    }
   ],
   "source": [
    "# Title of my plot\n",
    "\n",
    "plt.title('Sales price distribution')\n",
    "\n",
    "# Creating a distribution plot\n",
    "\n",
    "sns.distplot(x = home_data['SalePrice'],kde = True)\n",
    "\n",
    "# Adding labels\n",
    "\n",
    "plt.xlabel('Sales distribution')\n",
    "\n",
    "plt.show()"
   ]
  },
  {
   "cell_type": "code",
   "execution_count": 8,
   "id": "5eefd561",
   "metadata": {
    "collapsed": true,
    "execution": {
     "iopub.execute_input": "2021-12-28T02:24:10.245265Z",
     "iopub.status.busy": "2021-12-28T02:24:10.244379Z",
     "iopub.status.idle": "2021-12-28T02:24:10.247136Z",
     "shell.execute_reply": "2021-12-28T02:24:10.247659Z"
    },
    "jupyter": {
     "outputs_hidden": true
    },
    "papermill": {
     "duration": 0.032655,
     "end_time": "2021-12-28T02:24:10.247820",
     "exception": false,
     "start_time": "2021-12-28T02:24:10.215165",
     "status": "completed"
    },
    "tags": []
   },
   "outputs": [],
   "source": [
    "# The lines below will show you a hint or the solution.\n",
    "# step_1.hint() \n",
    "# step_1.solution()"
   ]
  },
  {
   "cell_type": "markdown",
   "id": "b4afc314",
   "metadata": {
    "papermill": {
     "duration": 0.02601,
     "end_time": "2021-12-28T02:24:10.301404",
     "exception": false,
     "start_time": "2021-12-28T02:24:10.275394",
     "status": "completed"
    },
    "tags": []
   },
   "source": [
    "## Step 2: Create X\n",
    "Now you will create a DataFrame called `X` holding the predictive features.\n",
    "\n",
    "Since you want only some columns from the original data, you'll first create a list with the names of the columns you want in `X`.\n",
    "\n",
    "You'll use just the following columns in the list (you can copy and paste the whole list to save some typing, though you'll still need to add quotes):\n",
    "    * LotArea\n",
    "    * YearBuilt\n",
    "    * 1stFlrSF\n",
    "    * 2ndFlrSF\n",
    "    * FullBath\n",
    "    * BedroomAbvGr\n",
    "    * TotRmsAbvGrd\n",
    "\n",
    "After you've created that list of features, use it to create the DataFrame that you'll use to fit the model."
   ]
  },
  {
   "cell_type": "code",
   "execution_count": 9,
   "id": "8e09787e",
   "metadata": {
    "execution": {
     "iopub.execute_input": "2021-12-28T02:24:10.357957Z",
     "iopub.status.busy": "2021-12-28T02:24:10.356981Z",
     "iopub.status.idle": "2021-12-28T02:24:10.365735Z",
     "shell.execute_reply": "2021-12-28T02:24:10.366240Z",
     "shell.execute_reply.started": "2021-12-28T02:06:49.691279Z"
    },
    "papermill": {
     "duration": 0.038494,
     "end_time": "2021-12-28T02:24:10.366404",
     "exception": false,
     "start_time": "2021-12-28T02:24:10.327910",
     "status": "completed"
    },
    "tags": []
   },
   "outputs": [
    {
     "data": {
      "application/javascript": [
       "parent.postMessage({\"jupyterEvent\": \"custom.exercise_interaction\", \"data\": {\"outcomeType\": 1, \"valueTowardsCompletion\": 0.25, \"interactionType\": 1, \"questionType\": 2, \"questionId\": \"2_SelectPredictionData\", \"learnToolsVersion\": \"0.3.4\", \"failureMessage\": \"\", \"exceptionClass\": \"\", \"trace\": \"\"}}, \"*\")"
      ],
      "text/plain": [
       "<IPython.core.display.Javascript object>"
      ]
     },
     "metadata": {},
     "output_type": "display_data"
    },
    {
     "data": {
      "text/markdown": [
       "<span style=\"color:#33cc33\">Correct</span>"
      ],
      "text/plain": [
       "Correct"
      ]
     },
     "metadata": {},
     "output_type": "display_data"
    }
   ],
   "source": [
    "# Create the list of features below\n",
    "feature_names = ['LotArea','YearBuilt','1stFlrSF','2ndFlrSF','FullBath','BedroomAbvGr','TotRmsAbvGrd']\n",
    "\n",
    "# Select data corresponding to features in feature_names\n",
    "X = home_data[feature_names]\n",
    "\n",
    "# Check your answer\n",
    "step_2.check()"
   ]
  },
  {
   "cell_type": "code",
   "execution_count": 10,
   "id": "2595a2ad",
   "metadata": {
    "execution": {
     "iopub.execute_input": "2021-12-28T02:24:10.424818Z",
     "iopub.status.busy": "2021-12-28T02:24:10.423845Z",
     "iopub.status.idle": "2021-12-28T02:24:10.436311Z",
     "shell.execute_reply": "2021-12-28T02:24:10.436892Z",
     "shell.execute_reply.started": "2021-12-28T02:07:15.202655Z"
    },
    "papermill": {
     "duration": 0.043534,
     "end_time": "2021-12-28T02:24:10.437062",
     "exception": false,
     "start_time": "2021-12-28T02:24:10.393528",
     "status": "completed"
    },
    "tags": []
   },
   "outputs": [
    {
     "data": {
      "text/html": [
       "<div>\n",
       "<style scoped>\n",
       "    .dataframe tbody tr th:only-of-type {\n",
       "        vertical-align: middle;\n",
       "    }\n",
       "\n",
       "    .dataframe tbody tr th {\n",
       "        vertical-align: top;\n",
       "    }\n",
       "\n",
       "    .dataframe thead th {\n",
       "        text-align: right;\n",
       "    }\n",
       "</style>\n",
       "<table border=\"1\" class=\"dataframe\">\n",
       "  <thead>\n",
       "    <tr style=\"text-align: right;\">\n",
       "      <th></th>\n",
       "      <th>LotArea</th>\n",
       "      <th>YearBuilt</th>\n",
       "      <th>1stFlrSF</th>\n",
       "      <th>2ndFlrSF</th>\n",
       "      <th>FullBath</th>\n",
       "      <th>BedroomAbvGr</th>\n",
       "      <th>TotRmsAbvGrd</th>\n",
       "    </tr>\n",
       "  </thead>\n",
       "  <tbody>\n",
       "    <tr>\n",
       "      <th>0</th>\n",
       "      <td>8450</td>\n",
       "      <td>2003</td>\n",
       "      <td>856</td>\n",
       "      <td>854</td>\n",
       "      <td>2</td>\n",
       "      <td>3</td>\n",
       "      <td>8</td>\n",
       "    </tr>\n",
       "    <tr>\n",
       "      <th>1</th>\n",
       "      <td>9600</td>\n",
       "      <td>1976</td>\n",
       "      <td>1262</td>\n",
       "      <td>0</td>\n",
       "      <td>2</td>\n",
       "      <td>3</td>\n",
       "      <td>6</td>\n",
       "    </tr>\n",
       "    <tr>\n",
       "      <th>2</th>\n",
       "      <td>11250</td>\n",
       "      <td>2001</td>\n",
       "      <td>920</td>\n",
       "      <td>866</td>\n",
       "      <td>2</td>\n",
       "      <td>3</td>\n",
       "      <td>6</td>\n",
       "    </tr>\n",
       "    <tr>\n",
       "      <th>3</th>\n",
       "      <td>9550</td>\n",
       "      <td>1915</td>\n",
       "      <td>961</td>\n",
       "      <td>756</td>\n",
       "      <td>1</td>\n",
       "      <td>3</td>\n",
       "      <td>7</td>\n",
       "    </tr>\n",
       "    <tr>\n",
       "      <th>4</th>\n",
       "      <td>14260</td>\n",
       "      <td>2000</td>\n",
       "      <td>1145</td>\n",
       "      <td>1053</td>\n",
       "      <td>2</td>\n",
       "      <td>4</td>\n",
       "      <td>9</td>\n",
       "    </tr>\n",
       "  </tbody>\n",
       "</table>\n",
       "</div>"
      ],
      "text/plain": [
       "   LotArea  YearBuilt  1stFlrSF  2ndFlrSF  FullBath  BedroomAbvGr  \\\n",
       "0     8450       2003       856       854         2             3   \n",
       "1     9600       1976      1262         0         2             3   \n",
       "2    11250       2001       920       866         2             3   \n",
       "3     9550       1915       961       756         1             3   \n",
       "4    14260       2000      1145      1053         2             4   \n",
       "\n",
       "   TotRmsAbvGrd  \n",
       "0             8  \n",
       "1             6  \n",
       "2             6  \n",
       "3             7  \n",
       "4             9  "
      ]
     },
     "execution_count": 10,
     "metadata": {},
     "output_type": "execute_result"
    }
   ],
   "source": [
    "# Let's see how our X variable looks like\n",
    "\n",
    "X.head()"
   ]
  },
  {
   "cell_type": "code",
   "execution_count": 11,
   "id": "5da8ab77",
   "metadata": {
    "collapsed": true,
    "execution": {
     "iopub.execute_input": "2021-12-28T02:24:10.495999Z",
     "iopub.status.busy": "2021-12-28T02:24:10.495354Z",
     "iopub.status.idle": "2021-12-28T02:24:10.498053Z",
     "shell.execute_reply": "2021-12-28T02:24:10.498642Z"
    },
    "jupyter": {
     "outputs_hidden": true
    },
    "papermill": {
     "duration": 0.033808,
     "end_time": "2021-12-28T02:24:10.498794",
     "exception": false,
     "start_time": "2021-12-28T02:24:10.464986",
     "status": "completed"
    },
    "tags": []
   },
   "outputs": [],
   "source": [
    "# step_2.hint()\n",
    "# step_2.solution()"
   ]
  },
  {
   "cell_type": "markdown",
   "id": "6cd483c3",
   "metadata": {
    "papermill": {
     "duration": 0.02781,
     "end_time": "2021-12-28T02:24:10.555051",
     "exception": false,
     "start_time": "2021-12-28T02:24:10.527241",
     "status": "completed"
    },
    "tags": []
   },
   "source": [
    "## Review Data\n",
    "Before building a model, take a quick look at **X** to verify it looks sensible"
   ]
  },
  {
   "cell_type": "code",
   "execution_count": 12,
   "id": "d3d513a6",
   "metadata": {
    "execution": {
     "iopub.execute_input": "2021-12-28T02:24:10.616336Z",
     "iopub.status.busy": "2021-12-28T02:24:10.613866Z",
     "iopub.status.idle": "2021-12-28T02:24:10.644298Z",
     "shell.execute_reply": "2021-12-28T02:24:10.644791Z",
     "shell.execute_reply.started": "2021-12-28T02:07:48.627560Z"
    },
    "papermill": {
     "duration": 0.062144,
     "end_time": "2021-12-28T02:24:10.644968",
     "exception": false,
     "start_time": "2021-12-28T02:24:10.582824",
     "status": "completed"
    },
    "tags": []
   },
   "outputs": [
    {
     "data": {
      "text/html": [
       "<div>\n",
       "<style scoped>\n",
       "    .dataframe tbody tr th:only-of-type {\n",
       "        vertical-align: middle;\n",
       "    }\n",
       "\n",
       "    .dataframe tbody tr th {\n",
       "        vertical-align: top;\n",
       "    }\n",
       "\n",
       "    .dataframe thead th {\n",
       "        text-align: right;\n",
       "    }\n",
       "</style>\n",
       "<table border=\"1\" class=\"dataframe\">\n",
       "  <thead>\n",
       "    <tr style=\"text-align: right;\">\n",
       "      <th></th>\n",
       "      <th>LotArea</th>\n",
       "      <th>YearBuilt</th>\n",
       "      <th>1stFlrSF</th>\n",
       "      <th>2ndFlrSF</th>\n",
       "      <th>FullBath</th>\n",
       "      <th>BedroomAbvGr</th>\n",
       "      <th>TotRmsAbvGrd</th>\n",
       "    </tr>\n",
       "  </thead>\n",
       "  <tbody>\n",
       "    <tr>\n",
       "      <th>count</th>\n",
       "      <td>1460.000000</td>\n",
       "      <td>1460.000000</td>\n",
       "      <td>1460.000000</td>\n",
       "      <td>1460.000000</td>\n",
       "      <td>1460.000000</td>\n",
       "      <td>1460.000000</td>\n",
       "      <td>1460.000000</td>\n",
       "    </tr>\n",
       "    <tr>\n",
       "      <th>mean</th>\n",
       "      <td>10516.828082</td>\n",
       "      <td>1971.267808</td>\n",
       "      <td>1162.626712</td>\n",
       "      <td>346.992466</td>\n",
       "      <td>1.565068</td>\n",
       "      <td>2.866438</td>\n",
       "      <td>6.517808</td>\n",
       "    </tr>\n",
       "    <tr>\n",
       "      <th>std</th>\n",
       "      <td>9981.264932</td>\n",
       "      <td>30.202904</td>\n",
       "      <td>386.587738</td>\n",
       "      <td>436.528436</td>\n",
       "      <td>0.550916</td>\n",
       "      <td>0.815778</td>\n",
       "      <td>1.625393</td>\n",
       "    </tr>\n",
       "    <tr>\n",
       "      <th>min</th>\n",
       "      <td>1300.000000</td>\n",
       "      <td>1872.000000</td>\n",
       "      <td>334.000000</td>\n",
       "      <td>0.000000</td>\n",
       "      <td>0.000000</td>\n",
       "      <td>0.000000</td>\n",
       "      <td>2.000000</td>\n",
       "    </tr>\n",
       "    <tr>\n",
       "      <th>25%</th>\n",
       "      <td>7553.500000</td>\n",
       "      <td>1954.000000</td>\n",
       "      <td>882.000000</td>\n",
       "      <td>0.000000</td>\n",
       "      <td>1.000000</td>\n",
       "      <td>2.000000</td>\n",
       "      <td>5.000000</td>\n",
       "    </tr>\n",
       "    <tr>\n",
       "      <th>50%</th>\n",
       "      <td>9478.500000</td>\n",
       "      <td>1973.000000</td>\n",
       "      <td>1087.000000</td>\n",
       "      <td>0.000000</td>\n",
       "      <td>2.000000</td>\n",
       "      <td>3.000000</td>\n",
       "      <td>6.000000</td>\n",
       "    </tr>\n",
       "    <tr>\n",
       "      <th>75%</th>\n",
       "      <td>11601.500000</td>\n",
       "      <td>2000.000000</td>\n",
       "      <td>1391.250000</td>\n",
       "      <td>728.000000</td>\n",
       "      <td>2.000000</td>\n",
       "      <td>3.000000</td>\n",
       "      <td>7.000000</td>\n",
       "    </tr>\n",
       "    <tr>\n",
       "      <th>max</th>\n",
       "      <td>215245.000000</td>\n",
       "      <td>2010.000000</td>\n",
       "      <td>4692.000000</td>\n",
       "      <td>2065.000000</td>\n",
       "      <td>3.000000</td>\n",
       "      <td>8.000000</td>\n",
       "      <td>14.000000</td>\n",
       "    </tr>\n",
       "  </tbody>\n",
       "</table>\n",
       "</div>"
      ],
      "text/plain": [
       "             LotArea    YearBuilt     1stFlrSF     2ndFlrSF     FullBath  \\\n",
       "count    1460.000000  1460.000000  1460.000000  1460.000000  1460.000000   \n",
       "mean    10516.828082  1971.267808  1162.626712   346.992466     1.565068   \n",
       "std      9981.264932    30.202904   386.587738   436.528436     0.550916   \n",
       "min      1300.000000  1872.000000   334.000000     0.000000     0.000000   \n",
       "25%      7553.500000  1954.000000   882.000000     0.000000     1.000000   \n",
       "50%      9478.500000  1973.000000  1087.000000     0.000000     2.000000   \n",
       "75%     11601.500000  2000.000000  1391.250000   728.000000     2.000000   \n",
       "max    215245.000000  2010.000000  4692.000000  2065.000000     3.000000   \n",
       "\n",
       "       BedroomAbvGr  TotRmsAbvGrd  \n",
       "count   1460.000000   1460.000000  \n",
       "mean       2.866438      6.517808  \n",
       "std        0.815778      1.625393  \n",
       "min        0.000000      2.000000  \n",
       "25%        2.000000      5.000000  \n",
       "50%        3.000000      6.000000  \n",
       "75%        3.000000      7.000000  \n",
       "max        8.000000     14.000000  "
      ]
     },
     "execution_count": 12,
     "metadata": {},
     "output_type": "execute_result"
    }
   ],
   "source": [
    "# Review data\n",
    "# print description or statistics from X\n",
    "#print(_)\n",
    "\n",
    "# print the top few lines\n",
    "#print(_)\n",
    "\n",
    "X.describe()"
   ]
  },
  {
   "cell_type": "markdown",
   "id": "dde085d1",
   "metadata": {
    "papermill": {
     "duration": 0.02778,
     "end_time": "2021-12-28T02:24:10.701023",
     "exception": false,
     "start_time": "2021-12-28T02:24:10.673243",
     "status": "completed"
    },
    "tags": []
   },
   "source": [
    "The new dataset X looks fine to me."
   ]
  },
  {
   "cell_type": "markdown",
   "id": "66261ac0",
   "metadata": {
    "papermill": {
     "duration": 0.02775,
     "end_time": "2021-12-28T02:24:10.757052",
     "exception": false,
     "start_time": "2021-12-28T02:24:10.729302",
     "status": "completed"
    },
    "tags": []
   },
   "source": [
    "## Step 3: Specify and Fit Model\n",
    "Create a `DecisionTreeRegressor` and save it iowa_model. Ensure you've done the relevant import from sklearn to run this command.\n",
    "\n",
    "Then fit the model you just created using the data in `X` and `y` that you saved above."
   ]
  },
  {
   "cell_type": "code",
   "execution_count": 13,
   "id": "a81d3573",
   "metadata": {
    "execution": {
     "iopub.execute_input": "2021-12-28T02:24:10.819644Z",
     "iopub.status.busy": "2021-12-28T02:24:10.818999Z",
     "iopub.status.idle": "2021-12-28T02:24:10.835513Z",
     "shell.execute_reply": "2021-12-28T02:24:10.835014Z",
     "shell.execute_reply.started": "2021-12-28T02:11:35.094393Z"
    },
    "papermill": {
     "duration": 0.050146,
     "end_time": "2021-12-28T02:24:10.835652",
     "exception": false,
     "start_time": "2021-12-28T02:24:10.785506",
     "status": "completed"
    },
    "tags": []
   },
   "outputs": [
    {
     "data": {
      "application/javascript": [
       "parent.postMessage({\"jupyterEvent\": \"custom.exercise_interaction\", \"data\": {\"outcomeType\": 1, \"valueTowardsCompletion\": 0.25, \"interactionType\": 1, \"questionType\": 2, \"questionId\": \"3_CreateModel\", \"learnToolsVersion\": \"0.3.4\", \"failureMessage\": \"\", \"exceptionClass\": \"\", \"trace\": \"\"}}, \"*\")"
      ],
      "text/plain": [
       "<IPython.core.display.Javascript object>"
      ]
     },
     "metadata": {},
     "output_type": "display_data"
    },
    {
     "data": {
      "text/markdown": [
       "<span style=\"color:#33cc33\">Correct</span>"
      ],
      "text/plain": [
       "Correct"
      ]
     },
     "metadata": {},
     "output_type": "display_data"
    }
   ],
   "source": [
    "# lets import the decision tree\n",
    "\n",
    "from sklearn.tree import DecisionTreeRegressor\n",
    "\n",
    "#For model reproducibility, set a numeric value for random_state when specifying the model\n",
    "iowa_model = DecisionTreeRegressor(random_state =1)\n",
    "\n",
    "# Fit the model\n",
    "iowa_model.fit(X,y)\n",
    "\n",
    "# Check your answer\n",
    "step_3.check()"
   ]
  },
  {
   "cell_type": "code",
   "execution_count": 14,
   "id": "2f832c7c",
   "metadata": {
    "collapsed": true,
    "execution": {
     "iopub.execute_input": "2021-12-28T02:24:10.899759Z",
     "iopub.status.busy": "2021-12-28T02:24:10.899108Z",
     "iopub.status.idle": "2021-12-28T02:24:10.901966Z",
     "shell.execute_reply": "2021-12-28T02:24:10.901464Z"
    },
    "jupyter": {
     "outputs_hidden": true
    },
    "papermill": {
     "duration": 0.036497,
     "end_time": "2021-12-28T02:24:10.902090",
     "exception": false,
     "start_time": "2021-12-28T02:24:10.865593",
     "status": "completed"
    },
    "tags": []
   },
   "outputs": [],
   "source": [
    "# step_3.hint()\n",
    "# step_3.solution()"
   ]
  },
  {
   "cell_type": "markdown",
   "id": "0a79bccd",
   "metadata": {
    "papermill": {
     "duration": 0.029249,
     "end_time": "2021-12-28T02:24:10.961396",
     "exception": false,
     "start_time": "2021-12-28T02:24:10.932147",
     "status": "completed"
    },
    "tags": []
   },
   "source": [
    "## Step 4: Make Predictions\n",
    "Make predictions with the model's `predict` command using `X` as the data. Save the results to a variable called `predictions`."
   ]
  },
  {
   "cell_type": "code",
   "execution_count": 15,
   "id": "59ccd445",
   "metadata": {
    "execution": {
     "iopub.execute_input": "2021-12-28T02:24:11.027714Z",
     "iopub.status.busy": "2021-12-28T02:24:11.027052Z",
     "iopub.status.idle": "2021-12-28T02:24:11.037521Z",
     "shell.execute_reply": "2021-12-28T02:24:11.037965Z",
     "shell.execute_reply.started": "2021-12-28T02:12:26.834607Z"
    },
    "papermill": {
     "duration": 0.047084,
     "end_time": "2021-12-28T02:24:11.038131",
     "exception": false,
     "start_time": "2021-12-28T02:24:10.991047",
     "status": "completed"
    },
    "tags": []
   },
   "outputs": [
    {
     "name": "stdout",
     "output_type": "stream",
     "text": [
      "[208500. 181500. 223500. ... 266500. 142125. 147500.]\n"
     ]
    },
    {
     "data": {
      "application/javascript": [
       "parent.postMessage({\"jupyterEvent\": \"custom.exercise_interaction\", \"data\": {\"outcomeType\": 1, \"valueTowardsCompletion\": 0.25, \"interactionType\": 1, \"questionType\": 2, \"questionId\": \"4_MakePredictions\", \"learnToolsVersion\": \"0.3.4\", \"failureMessage\": \"\", \"exceptionClass\": \"\", \"trace\": \"\"}}, \"*\")"
      ],
      "text/plain": [
       "<IPython.core.display.Javascript object>"
      ]
     },
     "metadata": {},
     "output_type": "display_data"
    },
    {
     "data": {
      "text/markdown": [
       "<span style=\"color:#33cc33\">Correct</span>"
      ],
      "text/plain": [
       "Correct"
      ]
     },
     "metadata": {},
     "output_type": "display_data"
    }
   ],
   "source": [
    "# Making predictions\n",
    "\n",
    "predictions = iowa_model.predict(X)\n",
    "print(predictions)\n",
    "\n",
    "# Check your answer\n",
    "step_4.check()"
   ]
  },
  {
   "cell_type": "code",
   "execution_count": 16,
   "id": "3cc4a218",
   "metadata": {
    "execution": {
     "iopub.execute_input": "2021-12-28T02:24:11.124003Z",
     "iopub.status.busy": "2021-12-28T02:24:11.117715Z",
     "iopub.status.idle": "2021-12-28T02:24:11.402832Z",
     "shell.execute_reply": "2021-12-28T02:24:11.402250Z",
     "shell.execute_reply.started": "2021-12-28T02:19:06.302776Z"
    },
    "papermill": {
     "duration": 0.333652,
     "end_time": "2021-12-28T02:24:11.402972",
     "exception": false,
     "start_time": "2021-12-28T02:24:11.069320",
     "status": "completed"
    },
    "tags": []
   },
   "outputs": [
    {
     "name": "stderr",
     "output_type": "stream",
     "text": [
      "/opt/conda/lib/python3.7/site-packages/seaborn/distributions.py:2619: FutureWarning: `distplot` is a deprecated function and will be removed in a future version. Please adapt your code to use either `displot` (a figure-level function with similar flexibility) or `histplot` (an axes-level function for histograms).\n",
      "  warnings.warn(msg, FutureWarning)\n"
     ]
    },
    {
     "data": {
      "text/plain": [
       "<AxesSubplot:ylabel='Density'>"
      ]
     },
     "execution_count": 16,
     "metadata": {},
     "output_type": "execute_result"
    },
    {
     "data": {
      "image/png": "[encoded data removed]",
      "text/plain": [
       "<Figure size 432x288 with 1 Axes>"
      ]
     },
     "metadata": {
      "needs_background": "light"
     },
     "output_type": "display_data"
    }
   ],
   "source": [
    "# let's plot our predictions value\n",
    "\n",
    "sns.distplot(x = predictions, kde = True)\n",
    "\n",
    "\n"
   ]
  },
  {
   "cell_type": "code",
   "execution_count": 17,
   "id": "49fafd63",
   "metadata": {
    "execution": {
     "iopub.execute_input": "2021-12-28T02:24:11.470790Z",
     "iopub.status.busy": "2021-12-28T02:24:11.469845Z",
     "iopub.status.idle": "2021-12-28T02:24:11.748690Z",
     "shell.execute_reply": "2021-12-28T02:24:11.749184Z",
     "shell.execute_reply.started": "2021-12-28T02:19:14.112623Z"
    },
    "papermill": {
     "duration": 0.314063,
     "end_time": "2021-12-28T02:24:11.749343",
     "exception": false,
     "start_time": "2021-12-28T02:24:11.435280",
     "status": "completed"
    },
    "tags": []
   },
   "outputs": [
    {
     "name": "stderr",
     "output_type": "stream",
     "text": [
      "/opt/conda/lib/python3.7/site-packages/seaborn/distributions.py:2619: FutureWarning: `distplot` is a deprecated function and will be removed in a future version. Please adapt your code to use either `displot` (a figure-level function with similar flexibility) or `histplot` (an axes-level function for histograms).\n",
      "  warnings.warn(msg, FutureWarning)\n"
     ]
    },
    {
     "data": {
      "text/plain": [
       "<AxesSubplot:ylabel='Density'>"
      ]
     },
     "execution_count": 17,
     "metadata": {},
     "output_type": "execute_result"
    },
    {
     "data": {
      "image/png": "[encoded data removed]",
      "text/plain": [
       "<Figure size 432x288 with 1 Axes>"
      ]
     },
     "metadata": {
      "needs_background": "light"
     },
     "output_type": "display_data"
    }
   ],
   "source": [
    "sns.distplot(x = home_data['SalePrice'],kde = True)"
   ]
  },
  {
   "cell_type": "code",
   "execution_count": 18,
   "id": "48194806",
   "metadata": {
    "collapsed": true,
    "execution": {
     "iopub.execute_input": "2021-12-28T02:24:11.819980Z",
     "iopub.status.busy": "2021-12-28T02:24:11.818979Z",
     "iopub.status.idle": "2021-12-28T02:24:11.822135Z",
     "shell.execute_reply": "2021-12-28T02:24:11.822792Z"
    },
    "jupyter": {
     "outputs_hidden": true
    },
    "papermill": {
     "duration": 0.040433,
     "end_time": "2021-12-28T02:24:11.822968",
     "exception": false,
     "start_time": "2021-12-28T02:24:11.782535",
     "status": "completed"
    },
    "tags": []
   },
   "outputs": [],
   "source": [
    "# step_4.hint()\n",
    "# step_4.solution()"
   ]
  },
  {
   "cell_type": "markdown",
   "id": "d4f9da5a",
   "metadata": {
    "papermill": {
     "duration": 0.034189,
     "end_time": "2021-12-28T02:24:11.890466",
     "exception": false,
     "start_time": "2021-12-28T02:24:11.856277",
     "status": "completed"
    },
    "tags": []
   },
   "source": [
    "## Think About Your Results\n",
    "\n",
    "Use the `head` method to compare the top few predictions to the actual home values (in `y`) for those same homes. Anything surprising?\n"
   ]
  },
  {
   "cell_type": "code",
   "execution_count": 19,
   "id": "7443dd89",
   "metadata": {
    "execution": {
     "iopub.execute_input": "2021-12-28T02:24:11.961940Z",
     "iopub.status.busy": "2021-12-28T02:24:11.960959Z",
     "iopub.status.idle": "2021-12-28T02:24:11.967073Z",
     "shell.execute_reply": "2021-12-28T02:24:11.967675Z",
     "shell.execute_reply.started": "2021-12-28T02:21:49.963454Z"
    },
    "papermill": {
     "duration": 0.04395,
     "end_time": "2021-12-28T02:24:11.967840",
     "exception": false,
     "start_time": "2021-12-28T02:24:11.923890",
     "status": "completed"
    },
    "tags": []
   },
   "outputs": [
    {
     "data": {
      "text/plain": [
       "0    208500\n",
       "1    181500\n",
       "2    223500\n",
       "3    140000\n",
       "4    250000\n",
       "Name: SalePrice, dtype: int64"
      ]
     },
     "execution_count": 19,
     "metadata": {},
     "output_type": "execute_result"
    }
   ],
   "source": [
    "# Let's compare the first 5 values from the predited value and the actual value\n",
    "\n",
    "# Actual values\n",
    "\n",
    "y.head()\n"
   ]
  },
  {
   "cell_type": "code",
   "execution_count": 20,
   "id": "9acd01ef",
   "metadata": {
    "execution": {
     "iopub.execute_input": "2021-12-28T02:24:12.042357Z",
     "iopub.status.busy": "2021-12-28T02:24:12.041560Z",
     "iopub.status.idle": "2021-12-28T02:24:12.044764Z",
     "shell.execute_reply": "2021-12-28T02:24:12.045239Z",
     "shell.execute_reply.started": "2021-12-28T02:22:41.132325Z"
    },
    "papermill": {
     "duration": 0.043644,
     "end_time": "2021-12-28T02:24:12.045414",
     "exception": false,
     "start_time": "2021-12-28T02:24:12.001770",
     "status": "completed"
    },
    "tags": []
   },
   "outputs": [
    {
     "data": {
      "text/plain": [
       "array([208500., 181500., 223500., 140000., 250000.])"
      ]
     },
     "execution_count": 20,
     "metadata": {},
     "output_type": "execute_result"
    }
   ],
   "source": [
    "predictions[0:5]"
   ]
  },
  {
   "cell_type": "markdown",
   "id": "2d96ef56",
   "metadata": {
    "papermill": {
     "duration": 0.034308,
     "end_time": "2021-12-28T02:24:12.114420",
     "exception": false,
     "start_time": "2021-12-28T02:24:12.080112",
     "status": "completed"
    },
    "tags": []
   },
   "source": [
    "So from the above observation we can see that the predicted values are almost similar to the actual values."
   ]
  },
  {
   "cell_type": "markdown",
   "id": "ec310f81",
   "metadata": {
    "papermill": {
     "duration": 0.03368,
     "end_time": "2021-12-28T02:24:12.182112",
     "exception": false,
     "start_time": "2021-12-28T02:24:12.148432",
     "status": "completed"
    },
    "tags": []
   },
   "source": [
    "It's natural to ask how accurate the model's predictions will be and how you can improve that. That will be you're next step.\n",
    "\n",
    "# Keep Going\n",
    "\n",
    "You are ready for **[Model Validation](https://www.kaggle.com/dansbecker/model-validation).**\n"
   ]
  },
  {
   "cell_type": "markdown",
   "id": "d8b92d67",
   "metadata": {
    "papermill": {
     "duration": 0.033835,
     "end_time": "2021-12-28T02:24:12.250686",
     "exception": false,
     "start_time": "2021-12-28T02:24:12.216851",
     "status": "completed"
    },
    "tags": []
   },
   "source": [
    "---\n",
    "\n",
    "\n",
    "\n",
    "\n",
    "*Have questions or comments? Visit the [course discussion forum](https://www.kaggle.com/learn/intro-to-machine-learning/discussion) to chat with other learners.*"
   ]
  }
 ],
 "metadata": {
  "kernelspec": {
   "display_name": "Python 3",
   "language": "python",
   "name": "python3"
  },
  "language_info": {
   "codemirror_mode": {
    "name": "ipython",
    "version": 3
   },
   "file_extension": ".py",
   "mimetype": "text/x-python",
   "name": "python",
   "nbconvert_exporter": "python",
   "pygments_lexer": "ipython3",
   "version": "3.7.12"
  },
  "papermill": {
   "default_parameters": {},
   "duration": 15.089542,
   "end_time": "2021-12-28T02:24:12.995528",
   "environment_variables": {},
   "exception": null,
   "input_path": "__notebook__.ipynb",
   "output_path": "__notebook__.ipynb",
   "parameters": {},
   "start_time": "2021-12-28T02:23:57.905986",
   "version": "2.3.3"
  }
 },
 "nbformat": 4,
 "nbformat_minor": 5
}
